{
 "cells": [
  {
   "cell_type": "code",
   "execution_count": 1,
   "id": "2412baf8-885a-4cd3-b774-c9990cc88036",
   "metadata": {},
   "outputs": [],
   "source": [
    "import logging\n"
   ]
  },
  {
   "cell_type": "code",
   "execution_count": 2,
   "id": "dec3e2f8-1a30-4654-ba36-07ac3b52862e",
   "metadata": {},
   "outputs": [],
   "source": [
    "logging.basicConfig(filename=\"Assignment1.log\",level=logging.DEBUG)"
   ]
  },
  {
   "cell_type": "code",
   "execution_count": 3,
   "id": "0f8d1987-ebd4-4941-8e15-5af44839fbfc",
   "metadata": {},
   "outputs": [
    {
     "name": "stdout",
     "output_type": "stream",
     "text": [
      "5050\n",
      "5050\n"
     ]
    }
   ],
   "source": [
    "#QUE.1\n",
    "logging.info(\"For loop is used whenever we know from where we have to start loop and where it will end plus jump in the loop. Example for for loop is given below:\")\n",
    "sum=0\n",
    "for i in range(1,101):\n",
    "    sum=sum+i\n",
    "logging.info(sum)\n",
    "print(sum)\n",
    "\n",
    "logging.info(\"While loop is used wherever we know the terminating condition of loop and , jump in series , For ex: to find sum of first 100 natural no.s\")\n",
    "sum=0\n",
    "i=0\n",
    "while i<101:\n",
    "    sum=sum+i\n",
    "    i=i+1\n",
    "logging.info(sum)\n",
    "print(sum)\n",
    "    "
   ]
  },
  {
   "cell_type": "code",
   "execution_count": 7,
   "id": "d2db7047-6e08-4619-a79a-e256b12c6601",
   "metadata": {},
   "outputs": [
    {
     "name": "stdout",
     "output_type": "stream",
     "text": [
      "55\n",
      "3628800\n"
     ]
    }
   ],
   "source": [
    "#Que.2\n",
    "sum=0\n",
    "product=1\n",
    "\n",
    "for i in range(1,11):\n",
    "    sum=sum+i\n",
    "print(sum ) \n",
    "for i in range(1,11):\n",
    "    product=product*i\n",
    "print(product)   "
   ]
  },
  {
   "cell_type": "code",
   "execution_count": 9,
   "id": "f37fdf39-a6e2-4d3b-92f2-7125491ddc05",
   "metadata": {},
   "outputs": [
    {
     "name": "stdin",
     "output_type": "stream",
     "text": [
      "Please enter total units:  310\n"
     ]
    },
    {
     "name": "stdout",
     "output_type": "stream",
     "text": [
      "2250\n"
     ]
    }
   ],
   "source": [
    "#Que.3\n",
    "unit=int(input(\"Please enter total units: \"))\n",
    "if unit>300:\n",
    "    bill=2050+(unit-300)*20\n",
    "if unit<100:\n",
    "    bill=unit*4.5\n",
    "if unit>100 and unit<200:\n",
    "    bill=600+6*(unit-100)\n",
    "if unit>200 and unit<300:\n",
    "    bill=1400+(unit-200)*10\n",
    "logging.info(bill)\n",
    "print(bill)\n",
    "    "
   ]
  },
  {
   "cell_type": "code",
   "execution_count": 11,
   "id": "7e336cfb-4792-4f08-80a9-adbff4cd51ba",
   "metadata": {},
   "outputs": [
    {
     "name": "stdout",
     "output_type": "stream",
     "text": [
      "[0, 2, 4, 5, 6, 8, 10, 12, 14, 15, 16, 18, 20, 22, 24, 25, 26, 28, 30, 32, 34, 35, 36, 38, 40, 42, 44, 45, 46, 48, 50, 52, 54, 55, 56, 58, 60, 62, 64, 65, 66, 68, 70, 72, 74, 75, 76, 78, 80, 82, 84, 85, 86, 88, 90, 92, 94, 95, 96, 98, 100]\n"
     ]
    }
   ],
   "source": [
    "#QUE.4\n",
    "l=[]\n",
    "l1=[]\n",
    "for i in range(101):\n",
    "    l.append(i)\n",
    "for i in range(101):\n",
    "    if i**3%4==0 or i**3%5==0:\n",
    "        l1.append(i)\n",
    "logging.info(l1)        \n",
    "print(l1)\n"
   ]
  },
  {
   "cell_type": "code",
   "execution_count": 12,
   "id": "d7959970-6870-4528-9279-c24addd60723",
   "metadata": {},
   "outputs": [
    {
     "name": "stdout",
     "output_type": "stream",
     "text": [
      "11\n"
     ]
    }
   ],
   "source": [
    "#QUE5.5\n",
    "string = \"I want to become a data scientist\"\n",
    "count=0\n",
    "for i in string:\n",
    "    if i=='a'or i=='e'or i=='i'or i=='o' or i=='u':\n",
    "        count=count+1\n",
    "logging.info(count)  \n",
    "print(count)\n"
   ]
  }
 ],
 "metadata": {
  "kernelspec": {
   "display_name": "Python 3 (ipykernel)",
   "language": "python",
   "name": "python3"
  },
  "language_info": {
   "codemirror_mode": {
    "name": "ipython",
    "version": 3
   },
   "file_extension": ".py",
   "mimetype": "text/x-python",
   "name": "python",
   "nbconvert_exporter": "python",
   "pygments_lexer": "ipython3",
   "version": "3.10.8"
  }
 },
 "nbformat": 4,
 "nbformat_minor": 5
}
